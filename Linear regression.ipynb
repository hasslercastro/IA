{
 "cells": [
  {
   "cell_type": "code",
   "execution_count": 280,
   "metadata": {
    "collapsed": true
   },
   "outputs": [],
   "source": [
    "%matplotlib inline\n",
    "import numpy as np\n",
    "import matplotlib.pyplot as plt"
   ]
  },
  {
   "cell_type": "code",
   "execution_count": 281,
   "metadata": {
    "collapsed": true
   },
   "outputs": [],
   "source": [
    "def hypothesis(x,theta):\n",
    "    hx = np.dot(x , theta)\n",
    "    return hx"
   ]
  },
  {
   "cell_type": "code",
   "execution_count": 282,
   "metadata": {},
   "outputs": [],
   "source": [
    "def gradient(x,y,theta,niter,alpha):\n",
    "    m = x.size\n",
    "    x = np.c_[x , np.ones(m)]\n",
    "    for i in range(niter):\n",
    "        theta = np.subtract(theta, np.dot((alpha/m) ,np.matmul(np.transpose(x) ,np.subtract(hypothesis(x,theta) , y))))\n",
    "    return theta"
   ]
  },
  {
   "cell_type": "code",
   "execution_count": 283,
   "metadata": {},
   "outputs": [
    {
     "name": "stdout",
     "output_type": "stream",
     "text": [
      "[[ 1.16636235]\n",
      " [-3.63029144]]\n"
     ]
    },
    {
     "data": {
      "text/plain": [
       "[<matplotlib.lines.Line2D at 0x1e081260940>]"
      ]
     },
     "execution_count": 283,
     "metadata": {},
     "output_type": "execute_result"
    },
    {
     "data": {
      "image/png": "[encoded data removed]",
      "text/plain": [
       "<matplotlib.figure.Figure at 0x1e081260ba8>"
      ]
     },
     "metadata": {},
     "output_type": "display_data"
    }
   ],
   "source": [
    "#Loading data\n",
    "data = np.loadtxt('ex1data1.txt' , delimiter = \",\" )\n",
    "#Column vector with data\n",
    "x = data[:,0].reshape(-1,1)\n",
    "y = data[:,1].reshape(-1,1)\n",
    "\n",
    "#training set , 60% of data\n",
    "x_train = x[0:int(len(x)*0.6)]\n",
    "y_train = y[0:int(len(x)*0.6)]\n",
    "\n",
    "#validation set, 20% of data\n",
    "x_validation = x[int(len(x)*0.6):int(len(x)*0.8)]\n",
    "y_validation = y[int(len(x)*0.6):int(len(x)*0.8)]\n",
    "\n",
    "#test set , to evaluate accuaracy\n",
    "x_test = x[int(len(x)*0.8):]\n",
    "y_test = y[int(len(x)*0.8):]\n",
    "\n",
    "#plt.plot(x,y,'bo')\n",
    "\n",
    "#plt.plot(x_train, y_train , 'rx')\n",
    "#plt.plot(x_validation, y_validation , 'bo')\n",
    "\n",
    "theta = np.zeros((2,1))\n",
    "theta = (gradient(x,y,theta,1500,0.01))\n",
    "y_predict = []\n",
    "x_predict= []\n",
    "for i in range(30):\n",
    "    x_predict.append(i)\n",
    "    y_predict.append(theta[0] * i + theta[1])\n",
    "#costFunction(x,y,theta)\n",
    "#print(gradient(x,y,theta,30,0.01))\n",
    "#plt.plot(gradient(x,y,theta,20))\n",
    "print(theta)\n",
    "plt.plot(x,y,'ro')\n",
    "plt.plot(x_predict,y_predict, 'b')\n",
    "\n"
   ]
  },
  {
   "cell_type": "code",
   "execution_count": null,
   "metadata": {
    "collapsed": true
   },
   "outputs": [],
   "source": []
  },
  {
   "cell_type": "code",
   "execution_count": 284,
   "metadata": {
    "collapsed": true
   },
   "outputs": [],
   "source": [
    "#def gradientD()"
   ]
  },
  {
   "cell_type": "code",
   "execution_count": null,
   "metadata": {
    "collapsed": true
   },
   "outputs": [],
   "source": []
  }
 ],
 "metadata": {
  "kernelspec": {
   "display_name": "Python 3",
   "language": "python",
   "name": "python3"
  },
  "language_info": {
   "codemirror_mode": {
    "name": "ipython",
    "version": 3
   },
   "file_extension": ".py",
   "mimetype": "text/x-python",
   "name": "python",
   "nbconvert_exporter": "python",
   "pygments_lexer": "ipython3",
   "version": "3.6.1"
  }
 },
 "nbformat": 4,
 "nbformat_minor": 2
}
