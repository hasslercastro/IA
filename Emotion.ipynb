{
 "cells": [
  {
   "cell_type": "code",
   "execution_count": 1,
   "metadata": {},
   "outputs": [],
   "source": [
    "import tarfile\n",
    "import os\n",
    "import numpy as np\n",
    "import h5py\n",
    "\n",
    "import matplotlib.pyplot as plt"
   ]
  },
  {
   "cell_type": "code",
   "execution_count": null,
   "metadata": {},
   "outputs": [],
   "source": [
    "! sudo kaggle competitions download -c challenges-in-representation-learning-facial-expression-recognition-challenge"
   ]
  },
  {
   "cell_type": "code",
   "execution_count": null,
   "metadata": {},
   "outputs": [],
   "source": [
    "#Unzipping file\n",
    "for file in os.listdir('./'):\n",
    "    if (file.endswith(\"tar.gz\")):\n",
    "        tar = tarfile.open(file)\n",
    "        tar.extractall()\n",
    "        tar.close()"
   ]
  },
  {
   "cell_type": "code",
   "execution_count": 2,
   "metadata": {},
   "outputs": [
    {
     "name": "stderr",
     "output_type": "stream",
     "text": [
      "/opt/miniconda/lib/python2.7/site-packages/ipykernel_launcher.py:1: VisibleDeprecationWarning: Reading unicode strings without specifying the encoding argument is deprecated. Set the encoding, use None for the system default.\n",
      "  \"\"\"Entry point for launching an IPython kernel.\n"
     ]
    },
    {
     "data": {
      "text/plain": [
       "(35888, 3)"
      ]
     },
     "execution_count": 2,
     "metadata": {},
     "output_type": "execute_result"
    }
   ],
   "source": [
    "pictures = np.genfromtxt('./fer2013/fer2013.csv' , delimiter = ','  , dtype=  None)\n",
    "pictures.shape"
   ]
  },
  {
   "cell_type": "code",
   "execution_count": 3,
   "metadata": {},
   "outputs": [
    {
     "name": "stdout",
     "output_type": "stream",
     "text": [
      "((1, 2304), (1, 1), (1, 2304), (1, 1))\n",
      "Training\n",
      "(array([[  1.,   1.,   1., ...,   1.,   1.,   1.],\n",
      "       [ 70.,  80.,  82., ..., 106., 109.,  82.],\n",
      "       [151., 150., 147., ..., 193., 183., 184.],\n",
      "       ...,\n",
      "       [ 74.,  81.,  87., ..., 188., 187., 187.],\n",
      "       [222., 227., 203., ..., 136., 136., 134.],\n",
      "       [195., 199., 205., ...,   6.,  15.,  38.]]), array([1., 0., 0., ..., 4., 0., 4.]))\n"
     ]
    },
    {
     "data": {
      "text/plain": [
       "((28710, 2304), (28710,), (7179, 2304), (7179,))"
      ]
     },
     "execution_count": 3,
     "metadata": {},
     "output_type": "execute_result"
    },
    {
     "data": {
      "image/png": "[encoded data removed]",
      "text/plain": [
       "<Figure size 432x288 with 1 Axes>"
      ]
     },
     "metadata": {},
     "output_type": "display_data"
    }
   ],
   "source": [
    "x_training , y_training, x_test , y_test = np.ones((1,2304)) , np.ones((1,1)) , np.ones((1,2304)) , np.ones((1,1))\n",
    "print(x_training.shape,  y_training.shape , x_test.shape , y_test.shape)\n",
    "converter_pic = lambda z : np.fromstring( z , dtype = float, sep = \" \")\n",
    "\n",
    "temp = np.fromstring(pictures[20][1] , dtype = float , sep = ' ')\n",
    "temp = temp.reshape(48,48)\n",
    "plt.imshow(temp)\n",
    "print(pictures[20][2])\n",
    "\n",
    "for picture in pictures:\n",
    "    if picture[0] == \"emotion\":\n",
    "        pass\n",
    "    elif picture[2] == \"Training\":\n",
    "        x_training = np.r_[x_training, converter_pic(picture[1]).reshape(1,-1)]\n",
    "        y_training = np.append(y_training, int(picture[0]))\n",
    "    else:\n",
    "        x_test = np.r_[x_test, converter_pic(picture[1]).reshape(1,-1)]\n",
    "        y_test = np.append(y_test, int(picture[0]))\n",
    "    \n",
    "print(x_training , y_training)\n",
    "x_training.shape,  y_training.shape , x_test.shape , y_test.shape\n"
   ]
  },
  {
   "cell_type": "code",
   "execution_count": 4,
   "metadata": {},
   "outputs": [],
   "source": [
    "#with h5py.File('./data_emotion.h5' , 'w') as hdf:\n",
    "    hdf.create_dataset('x_test' , data = x_test)\n",
    "    hdf.create_dataset('y_test' , data = y_test)\n",
    "    hdf.create_dataset('x_training' , data = x_training)\n",
    "    hdf.create_dataset('y_training' , data = y_training)"
   ]
  },
  {
   "cell_type": "code",
   "execution_count": 5,
   "metadata": {},
   "outputs": [
    {
     "name": "stdout",
     "output_type": "stream",
     "text": [
      "('list', [u'x_test', u'x_training', u'y_test', u'y_training'])\n"
     ]
    }
   ],
   "source": [
    "with h5py.File('./data_emotion.h5' , 'r') as hdf:\n",
    "  ls = list(hdf.keys())\n",
    "  print(\"list\", ls)"
   ]
  },
  {
   "cell_type": "code",
   "execution_count": null,
   "metadata": {},
   "outputs": [],
   "source": [
    "def sigmoid(X):\n",
    "    return 1.0/(1+np.exp(-X))\n",
    "\n",
    "def costFunction(weigths):\n",
    "    return \n",
    "    "
   ]
  }
 ],
 "metadata": {
  "kernelspec": {
   "display_name": "Python 2",
   "language": "python",
   "name": "python2"
  },
  "language_info": {
   "codemirror_mode": {
    "name": "ipython",
    "version": 2
   },
   "file_extension": ".py",
   "mimetype": "text/x-python",
   "name": "python",
   "nbconvert_exporter": "python",
   "pygments_lexer": "ipython2",
   "version": "2.7.14"
  }
 },
 "nbformat": 4,
 "nbformat_minor": 2
}
