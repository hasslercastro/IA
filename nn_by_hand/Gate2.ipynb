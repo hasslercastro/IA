{
 "cells": [
  {
   "cell_type": "code",
   "execution_count": 2,
   "metadata": {},
   "outputs": [],
   "source": [
    "import numpy as np"
   ]
  },
  {
   "cell_type": "code",
   "execution_count": 3,
   "metadata": {},
   "outputs": [],
   "source": [
    "def sig(z):\n",
    "    return 1 / ( 1+ np.exp(-z))"
   ]
  },
  {
   "cell_type": "code",
   "execution_count": 4,
   "metadata": {},
   "outputs": [
    {
     "data": {
      "text/plain": [
       "0.5"
      ]
     },
     "execution_count": 4,
     "metadata": {},
     "output_type": "execute_result"
    }
   ],
   "source": [
    "sig(0)"
   ]
  },
  {
   "cell_type": "code",
   "execution_count": 5,
   "metadata": {},
   "outputs": [],
   "source": [
    "def sigp(z):\n",
    "    return sig(z) * (1 - sig(z))"
   ]
  },
  {
   "cell_type": "code",
   "execution_count": 6,
   "metadata": {},
   "outputs": [
    {
     "data": {
      "text/plain": [
       "0.25"
      ]
     },
     "execution_count": 6,
     "metadata": {},
     "output_type": "execute_result"
    }
   ],
   "source": [
    "sigp(0)"
   ]
  },
  {
   "cell_type": "code",
   "execution_count": 14,
   "metadata": {},
   "outputs": [],
   "source": [
    "def forward(X , W_and_bias):\n",
    "    w1 = W_and_bias[\"w1\"]\n",
    "    w2 = W_and_bias[\"w2\"]\n",
    "    b1 = W_and_bias[\"b1\"]\n",
    "    b2 = W_and_bias[\"b2\"]\n",
    "    z1 = w1 @ X + b1\n",
    "    A1 = sig(z1)\n",
    "    z2 = w2 @ A1 + b2\n",
    "    A2 = sig(z2)\n",
    "    return {\"z1\" : z1 , \"z2\" : z2 , \"A1\" : A1, \"A2\" : A2}"
   ]
  },
  {
   "cell_type": "code",
   "execution_count": 15,
   "metadata": {},
   "outputs": [],
   "source": [
    "def cost(y_hat , y):\n",
    "    return y_hat - y"
   ]
  },
  {
   "cell_type": "code",
   "execution_count": 27,
   "metadata": {},
   "outputs": [
    {
     "name": "stdout",
     "output_type": "stream",
     "text": [
      "[[0.87370118 0.85921122 0.86360237 0.84280894]]\n",
      "[[0.94346297 0.05256438 0.05252369 0.9426691 ]]\n",
      "[[0.96894053 0.02957568 0.02955892 0.96648472]]\n",
      "[[0.97653169 0.02252133 0.02251043 0.97417387]]\n",
      "[[0.98046326 0.01882718 0.01881897 0.97827285]]\n",
      "[[0.98294973 0.01647593 0.01646929 0.98090795]]\n",
      "[[0.98469781 0.01481582 0.0148102  0.98278089]]\n",
      "[[0.98601053 0.01356522 0.01356034 0.98419866]]\n",
      "[[0.98704178 0.01258036 0.01257603 0.98531936]]\n",
      "[[0.98787895 0.01177928 0.01177537 0.98623367]]\n"
     ]
    }
   ],
   "source": [
    "def back_and_grad(X , y , W_and_bias , learning_rate , num_ep):\n",
    "    \n",
    "    for i in range(num_ep):\n",
    "    \n",
    "        cache = forward(X, W_and_bias)\n",
    "        y_hat = cache[\"A2\"]\n",
    "        error = cost(y_hat, y)\n",
    "\n",
    "        delta1 = error * sigp(cache[\"z2\"])\n",
    "        der_w2 = delta1 @ cache[\"A1\"].T\n",
    "        der_b2 = np.sum(delta1)\n",
    "\n",
    "        delta2 = (W_and_bias[\"w2\"].T @ delta1) * sigp(cache[\"z1\"]) \n",
    "        der_w1 = delta2 @ X.T \n",
    "        der_b = np.sum(delta2, 1 , keepdims = True)\n",
    "\n",
    "        W_and_bias[\"w1\"] -= learning_rate * der_w1\n",
    "        W_and_bias[\"w2\"] -= learning_rate * der_w2\n",
    "        W_and_bias[\"b1\"] -= learning_rate * der_b\n",
    "        W_and_bias[\"b2\"] -= learning_rate * der_b2\n",
    "        if( i % (num_ep * .1) == 0):\n",
    "            print(cache[\"A2\"])\n",
    "    \n",
    "W_and_bias = {}\n",
    "W_and_bias[\"w2\"] = np.random.rand(1,2)\n",
    "W_and_bias[\"w1\"] = np.random.rand(2,2)\n",
    "W_and_bias[\"b2\"] = np.random.rand(1)\n",
    "W_and_bias[\"b1\"] = np.random.rand(2,1)\n",
    "\n",
    "X = np.array([[1,1,0,0], [1,0,1,0]])\n",
    "y = np.array([1,0,0,1])\n",
    "learning_rate = 0.01\n",
    "num_epoch = 1000000\n",
    "back_and_grad(X , y , W_and_bias , learning_rate, num_epoch)\n",
    "    \n"
   ]
  }
 ],
 "metadata": {
  "kernelspec": {
   "display_name": "Python 3",
   "language": "python",
   "name": "python3"
  },
  "language_info": {
   "codemirror_mode": {
    "name": "ipython",
    "version": 3
   },
   "file_extension": ".py",
   "mimetype": "text/x-python",
   "name": "python",
   "nbconvert_exporter": "python",
   "pygments_lexer": "ipython3",
   "version": "3.6.5"
  }
 },
 "nbformat": 4,
 "nbformat_minor": 2
}
